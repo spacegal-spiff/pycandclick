{
 "cells": [
  {
   "cell_type": "code",
   "execution_count": 6,
   "metadata": {
    "collapsed": false
   },
   "outputs": [],
   "source": [
    "import numpy as np\n",
    "import matplotlib.pyplot as plt\n",
    "import pylab\n",
    "import glob\n",
    "from pyds9 import *\n",
    "\n",
    "# Astropy Packages\n",
    "import astropy.io.fits as pf\n",
    "from astropy.convolution import Gaussian2DKernel\n",
    "from astropy.stats import gaussian_fwhm_to_sigma\n",
    "from astropy.stats import sigma_clipped_stats\n",
    "from astropy.visualization import SqrtStretch\n",
    "from astropy.visualization.mpl_normalize import ImageNormalize\n",
    "from astropy.table import hstack\n",
    "\n",
    "from photutils import (detect_sources, detect_threshold, find_peaks, detection, morphology, \n",
    "                       CircularAperture, CircularAnnulus, aperture_photometry)"
   ]
  },
  {
   "cell_type": "code",
   "execution_count": null,
   "metadata": {
    "collapsed": true
   },
   "outputs": [],
   "source": []
  },
  {
   "cell_type": "markdown",
   "metadata": {},
   "source": [
    "\n",
    "#-----------------------------------------------------------------------------------------\n",
    "'''\n",
    "\n",
    "pyCandClick: a Python implementation of Rob De Rosa's IDL cand_click.pro routine to measure fluxes for multiple stars in a FITS image and estimate their magnitude differences. Also includes automated source detection and centroiding from the photutils package.\n",
    "\n",
    "Dependencies include the following (some can be installed via pip):\n",
    "- AstroPy library, including photutils: http://www.astropy.org/\n",
    "- SAO ds9: http://ds9.si.edu/site/Home.html\n",
    "- pyds9: https://github.com/ericmandel/pyds9\n",
    "\n",
    "To run, use the following command: \n",
    "python pyCandClick.py\n",
    "\n",
    "(v1) 12/17/2015 - K. Ward-Duong: Created script.\n",
    "\n",
    "'''\n",
    "#-----------------------------------------------------------------------------------------"
   ]
  },
  {
   "cell_type": "code",
   "execution_count": 7,
   "metadata": {
    "collapsed": true
   },
   "outputs": [],
   "source": [
    "#-----------------------------------------------------------------------------------------\n",
    "# Define variables here:\n",
    "\n",
    "# observing params\n",
    "platescale = 0.04 # arcsec/px\n",
    "wavelength = 2.23E-6 # meters; make this more intelligent to grab filter from FITS header\n",
    "diameter = 6.5 # meters\n",
    "theory_fwhm = (1.22*wavelength/diameter*206265)/platescale # arcsec to px; measure this empirically instead in code\n",
    "\n",
    "# centroiding and photometry params\n",
    "boxsize = 10.0/2 # size of subimage to extract centroid (be careful if close companion)\n",
    "sky_annulus_width = 20.0 # in pixels\n",
    "skybuffer = 30.0 # separation between aperture and sky annulus in pixels\n",
    "\n"
   ]
  },
  {
   "cell_type": "code",
   "execution_count": 8,
   "metadata": {
    "collapsed": true
   },
   "outputs": [],
   "source": [
    "#-----------------------------------------------------------------------------------------\n",
    "# Define functions here:\n",
    "\n",
    "# Automatically identify stars\n",
    "def starfinder(data):\n",
    "    # Detect the source peaks at a 3-sigma level and put into table (tbl):\n",
    "    mean, median, std = sigma_clipped_stats(data, sigma=3.0)\n",
    "    threshold = median + (3.0 * std)\n",
    "    tbl = find_peaks(data, threshold)\n",
    "    return tbl\n",
    "\n",
    "# Get user input to select the brightest (primary) star:\n",
    "def onclick(event):\n",
    "    if event.xdata != None and event.ydata != None:\n",
    "        print(event.xdata, event.ydata)\n",
    "        return event.xdata, event.ydata\n",
    "        \n",
    "# Alternative method: key press? doesn't seem to work        \n",
    "def on_key(event, arg1, arg2, arg3):\n",
    "    if event.xdata != None and event.ydata != None:\n",
    "        print('you pressed', event.key, event.xdata, event.ydata)\n",
    "        \n",
    "def getphot(positions, radius, skyin, skyout, data):\n",
    "    apertures = CircularAperture(positions, r = radius)\n",
    "    annulus_apertures = CircularAnnulus(positions, r_in = skyin, r_out = skyout)\n",
    "    rawflux_table = aperture_photometry(data, apertures)\n",
    "    bkgflux_table = aperture_photometry(data, annulus_apertures)\n",
    "    phot_table = hstack([rawflux_table, bkgflux_table], table_names=['raw', 'bkg']) # collate source + bg measurements\n",
    "    bkg_mean = phot_table['aperture_sum_bkg'] / annulus_apertures.area() # get bg average by scaling to area\n",
    "    bkg_sum = bkg_mean * apertures.area() # scale bg to source aperture size\n",
    "    final_sum = phot_table['aperture_sum_raw'] - bkg_sum # subtract off bg contribution from source\n",
    "    phot_table['residual_aperture_sum'] = final_sum # add to table\n",
    "    return final_sum\n",
    "    \n",
    "def starfinder_iraf():\n",
    "    detection.irafstarfind(data, threshold, fwhm, minsep_fwhm=0.5, sky=None, exclude_border=False)\n",
    "    return # do nothing function...\n",
    "\n",
    "\n",
    "\n",
    "\n",
    "\n",
    "#-----------------------------------------------------------------------------------------"
   ]
  },
  {
   "cell_type": "code",
   "execution_count": 9,
   "metadata": {
    "collapsed": false
   },
   "outputs": [],
   "source": [
    "# Get all of the FITS files in the directory of your choice:\n",
    "files = glob.glob('/Users/Kim/Research/ExoplanetHostProject/mm_final_reduction/HAT-P-39/*.fits')\n",
    "\n",
    "# Open a ds9 window and set the frame\n",
    "#d = DS9()\n",
    "#d.set('frame 1')\n",
    "    \n",
    "# Loop over each of the FITS files:\n",
    "for ii in xrange(0, len(files)): \n",
    "    name = files[ii]\n",
    "    \n",
    "    # Get the data and header from the ii'th FITS file\n",
    "    data, header = pf.getdata(name, header = True)\n",
    "    star_positions = starfinder(data)\n",
    "    \n",
    "    # Display to ensure appropriate stars are found\n",
    "    plt.clf(), plt.cla() # clear any previous figures and axes\n",
    "    ax, fig = plt.gca(), plt.gcf()\n",
    "    norm = ImageNormalize(stretch=SqrtStretch()) # normalize image stretch\n",
    "    \n",
    "    #implot = ax.imshow(data, cmap='Greys_r', origin='lower', norm=ImageNormalize(stretch=SqrtStretch())) # normalize image stretch when loading data\n",
    "    plt.imshow(data, cmap='Greys_r', origin='lower', norm=ImageNormalize(stretch=SqrtStretch())) # normalize image stretch when loading data\n",
    "    plt.plot(star_positions[:,1], star_positions[:,0], ls='none', color='cyan', marker='+', ms=10, lw=1.5) # plot peaks, note swapped x/y!\n",
    "    \n",
    "    # For each star, extract a subimage around peak value, centroid in that box, \n",
    "    # show the image and centroid, then return the global image coordinates and FWHM:\n",
    "    centxpos = []\n",
    "    centypos = []\n",
    "    fwhms = []\n",
    "    numstars = len(star_positions)\n",
    "    for jj in xrange(0, numstars):\n",
    "        xpeak = star_positions[:,1][jj]\n",
    "        ypeak = star_positions[:,0][jj]\n",
    "        centroid = morphology.centroid_2dg(data[(ypeak-boxsize):(ypeak+boxsize), (xpeak-boxsize):(xpeak+boxsize)])\n",
    "        gauss_par = morphology.fit_2dgaussian(data[(ypeak-boxsize):(ypeak+boxsize), (xpeak-boxsize):(xpeak+boxsize)])\n",
    "        avg_gauss_stdev = (gauss_par.parameters[3]+gauss_par.parameters[4])/2.0\n",
    "        if gauss_par.parameters[0] > 1000*avg_gauss_stdev:\n",
    "            star_fwhm = 2.355*avg_gauss_stdev\n",
    "        elif gauss_par.parameters[0] < 1000*avg_gauss_stdev:\n",
    "            star_fwhm = theory_fwhm\n",
    "        plt.clf(), plt.cla()\n",
    "        pylab.imshow(data[(ypeak-boxsize):(ypeak+boxsize), (xpeak-boxsize):(xpeak+boxsize)])\n",
    "        plt.plot(centroid[1], centroid[0], color='white', marker = '+', ms=10)\n",
    "        plt.show()\n",
    "        centxpos.append((xpeak - boxsize) + centroid[1])\n",
    "        centypos.append((ypeak - boxsize) + centroid[0])\n",
    "        fwhms.append(star_fwhm)\n",
    "    \n",
    "    # Display to ensure centroid coordinates in full frame are correct:\n",
    "    plt.clf(), plt.cla() # clear any previous figures and axes    \n",
    "    plt.imshow(data, cmap='Greys_r', origin='lower', norm=ImageNormalize(stretch=SqrtStretch())) # normalize image stretch when loading data\n",
    "    plt.plot(centxpos, centypos, ls='none', color='lime', marker='+', ms=10, lw=1.5) # plot *centroids*\n",
    "    \n",
    "    # zip together the x and y positions into a new data structure\n",
    "    cent_positions = zip(centxpos, centypos)\n",
    "    \n",
    "    # Calculate the apertures for each star\n",
    "    aper_rad = [2.5*x for x in fwhms] # size in pixels of aperture\n",
    "    \n",
    "    # Extract photometry for the sources, including local background subtraction:\n",
    "    fluxes = []\n",
    "    for ii in xrange(0, numstars):\n",
    "        flux = getphot(cent_positions[ii], aper_rad[ii], aper_rad[ii] + skybuffer, \n",
    "                       aper_rad[ii] + skybuffer + sky_annulus_width, data) \n",
    "        fluxes.append(flux)\n",
    "    \n",
    "    # Plot apertures, annuli, and extracted fluxes as a sanity check:\n",
    "    plt.clf(), plt.cla() # clear any previous figures and axes    \n",
    "    plt.imshow(data, cmap='Greys_r', origin='lower', norm=ImageNormalize(stretch=SqrtStretch())) # normalize image stretch when loading data\n",
    "    for kk in xrange(0, numstars):\n",
    "        aper_circle = plt.Circle(cent_positions[kk], radius=aper_rad[kk], color='r', lw=2.0, fill=False)\n",
    "        sky_circle_inner = plt.Circle(cent_positions[kk], radius=aper_rad[kk]+skybuffer, color='lime', fill=False)\n",
    "        sky_circle_outer = plt.Circle(cent_positions[kk], radius=aper_rad[kk]+skybuffer+sky_annulus_width, color='lime', fill=False)\n",
    "        fig = plt.gcf()\n",
    "        fig.gca().add_artist(aper_circle) \n",
    "        fig.gca().add_artist(sky_circle_inner) \n",
    "        fig.gca().add_artist(sky_circle_outer)\n",
    "    plt.show()    \n",
    "        "
   ]
  },
  {
   "cell_type": "code",
   "execution_count": 10,
   "metadata": {
    "collapsed": false
   },
   "outputs": [
    {
     "name": "stdout",
     "output_type": "stream",
     "text": [
      "[<Column name='aperture_sum_raw' dtype='float64' unit='' length=1>\n",
      "10091.656367, <Column name='aperture_sum_raw' dtype='float64' unit='' length=1>\n",
      "516224.319722, <Column name='aperture_sum_raw' dtype='float64' unit='' length=1>\n",
      "2781.58789606]\n"
     ]
    }
   ],
   "source": [
    "print fluxes"
   ]
  },
  {
   "cell_type": "raw",
   "metadata": {},
   "source": []
  },
  {
   "cell_type": "code",
   "execution_count": null,
   "metadata": {
    "collapsed": true
   },
   "outputs": [],
   "source": []
  }
 ],
 "metadata": {
  "kernelspec": {
   "display_name": "Python 2",
   "language": "python",
   "name": "python2"
  },
  "language_info": {
   "codemirror_mode": {
    "name": "ipython",
    "version": 2
   },
   "file_extension": ".py",
   "mimetype": "text/x-python",
   "name": "python",
   "nbconvert_exporter": "python",
   "pygments_lexer": "ipython2",
   "version": "2.7.11"
  }
 },
 "nbformat": 4,
 "nbformat_minor": 0
}
